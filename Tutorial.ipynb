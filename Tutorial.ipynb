{
 "cells": [
  {
   "cell_type": "markdown",
   "source": [
    "# Tutorial for the Bayesian machine scientist "
   ],
   "metadata": {}
  },
  {
   "cell_type": "markdown",
   "source": [
    "This tutorial illustrates how to program a Bayesian machine scientist, using the code provided here. The tutorial assumes general knowledge of Python programming. We start by importing all necessary Python modules:"
   ],
   "metadata": {}
  },
  {
   "cell_type": "code",
   "execution_count": 1,
   "source": [
    "import sys\r\n",
    "import numpy as np \r\n",
    "import pandas as pd\r\n",
    "import warnings\r\n",
    "warnings.filterwarnings('ignore')\r\n",
    "\r\n",
    "import matplotlib.pyplot as plt\r\n",
    "from copy import deepcopy\r\n",
    "from ipywidgets import IntProgress\r\n",
    "from IPython.display import display\r\n",
    "\r\n",
    "sys.path.append('./')\r\n",
    "sys.path.append('./Prior/')\r\n",
    "from mcmc import *\r\n",
    "from parallel import *\r\n",
    "from fit_prior import read_prior_par"
   ],
   "outputs": [],
   "metadata": {}
  },
  {
   "cell_type": "markdown",
   "source": [
    "## Loading and preparing the data "
   ],
   "metadata": {}
  },
  {
   "cell_type": "markdown",
   "source": [
    "We then load the data. In this particular case, we load the salmon stocks data. The features (independent variables) are loaded into a Pandas `DataFrame` named `x`, whereas the target (dependent) variable is loaded into a Pandas `Series` named `y`. Data should **always** be loaded in these formats to avoid problems. "
   ],
   "metadata": {}
  },
  {
   "cell_type": "code",
   "execution_count": 2,
   "source": [
    "XLABS = [\r\n",
    "    'eff',\r\n",
    "    'D_max',\r\n",
    "    'D_apr',\r\n",
    "    'D_may',\r\n",
    "    'D_jun',\r\n",
    "    'ET_apr',\r\n",
    "    'ET_may',\r\n",
    "    'ET_jun',\r\n",
    "    'PT_apr',\r\n",
    "    'PT_may',\r\n",
    "    'PT_jun',\r\n",
    "    'PT_jul',\r\n",
    "    'PDO_win',\r\n",
    "]\r\n",
    "raw_data = pd.read_csv('Validation/LogYe/data/seymour.csv')\r\n",
    "x, y = raw_data[XLABS], np.log(raw_data['rec'])\r\n",
    "x.head()"
   ],
   "outputs": [
    {
     "output_type": "execute_result",
     "data": {
      "text/plain": [
       "        eff  D_max  D_apr  D_may  D_jun  ET_apr  ET_may  ET_jun  PT_apr  \\\n",
       "0  0.004697  12500    952   4160   8880     7.8    10.6    14.5     6.7   \n",
       "1  0.011504   8040   1650   6040   6020     9.1    12.4    14.5     7.2   \n",
       "2  0.002780   8330   1700   5670   6790     8.4    11.4    13.5     7.1   \n",
       "3  0.002907   7220    920   4960   6020     9.1    12.2    14.4     7.6   \n",
       "4  0.012463   9060    796   4100   7600     8.4    12.3    13.2     7.5   \n",
       "\n",
       "   PT_may  PT_jun  PT_jul  PDO_win  \n",
       "0     7.3     8.6     9.7   -1.544  \n",
       "1     8.2     8.9     9.8   -1.012  \n",
       "2     8.0     8.6     9.3   -0.496  \n",
       "3     8.5     9.1     9.9   -0.682  \n",
       "4     8.3     8.8     9.2   -0.472  "
      ],
      "text/html": [
       "<div>\n",
       "<style scoped>\n",
       "    .dataframe tbody tr th:only-of-type {\n",
       "        vertical-align: middle;\n",
       "    }\n",
       "\n",
       "    .dataframe tbody tr th {\n",
       "        vertical-align: top;\n",
       "    }\n",
       "\n",
       "    .dataframe thead th {\n",
       "        text-align: right;\n",
       "    }\n",
       "</style>\n",
       "<table border=\"1\" class=\"dataframe\">\n",
       "  <thead>\n",
       "    <tr style=\"text-align: right;\">\n",
       "      <th></th>\n",
       "      <th>eff</th>\n",
       "      <th>D_max</th>\n",
       "      <th>D_apr</th>\n",
       "      <th>D_may</th>\n",
       "      <th>D_jun</th>\n",
       "      <th>ET_apr</th>\n",
       "      <th>ET_may</th>\n",
       "      <th>ET_jun</th>\n",
       "      <th>PT_apr</th>\n",
       "      <th>PT_may</th>\n",
       "      <th>PT_jun</th>\n",
       "      <th>PT_jul</th>\n",
       "      <th>PDO_win</th>\n",
       "    </tr>\n",
       "  </thead>\n",
       "  <tbody>\n",
       "    <tr>\n",
       "      <td>0</td>\n",
       "      <td>0.004697</td>\n",
       "      <td>12500</td>\n",
       "      <td>952</td>\n",
       "      <td>4160</td>\n",
       "      <td>8880</td>\n",
       "      <td>7.8</td>\n",
       "      <td>10.6</td>\n",
       "      <td>14.5</td>\n",
       "      <td>6.7</td>\n",
       "      <td>7.3</td>\n",
       "      <td>8.6</td>\n",
       "      <td>9.7</td>\n",
       "      <td>-1.544</td>\n",
       "    </tr>\n",
       "    <tr>\n",
       "      <td>1</td>\n",
       "      <td>0.011504</td>\n",
       "      <td>8040</td>\n",
       "      <td>1650</td>\n",
       "      <td>6040</td>\n",
       "      <td>6020</td>\n",
       "      <td>9.1</td>\n",
       "      <td>12.4</td>\n",
       "      <td>14.5</td>\n",
       "      <td>7.2</td>\n",
       "      <td>8.2</td>\n",
       "      <td>8.9</td>\n",
       "      <td>9.8</td>\n",
       "      <td>-1.012</td>\n",
       "    </tr>\n",
       "    <tr>\n",
       "      <td>2</td>\n",
       "      <td>0.002780</td>\n",
       "      <td>8330</td>\n",
       "      <td>1700</td>\n",
       "      <td>5670</td>\n",
       "      <td>6790</td>\n",
       "      <td>8.4</td>\n",
       "      <td>11.4</td>\n",
       "      <td>13.5</td>\n",
       "      <td>7.1</td>\n",
       "      <td>8.0</td>\n",
       "      <td>8.6</td>\n",
       "      <td>9.3</td>\n",
       "      <td>-0.496</td>\n",
       "    </tr>\n",
       "    <tr>\n",
       "      <td>3</td>\n",
       "      <td>0.002907</td>\n",
       "      <td>7220</td>\n",
       "      <td>920</td>\n",
       "      <td>4960</td>\n",
       "      <td>6020</td>\n",
       "      <td>9.1</td>\n",
       "      <td>12.2</td>\n",
       "      <td>14.4</td>\n",
       "      <td>7.6</td>\n",
       "      <td>8.5</td>\n",
       "      <td>9.1</td>\n",
       "      <td>9.9</td>\n",
       "      <td>-0.682</td>\n",
       "    </tr>\n",
       "    <tr>\n",
       "      <td>4</td>\n",
       "      <td>0.012463</td>\n",
       "      <td>9060</td>\n",
       "      <td>796</td>\n",
       "      <td>4100</td>\n",
       "      <td>7600</td>\n",
       "      <td>8.4</td>\n",
       "      <td>12.3</td>\n",
       "      <td>13.2</td>\n",
       "      <td>7.5</td>\n",
       "      <td>8.3</td>\n",
       "      <td>8.8</td>\n",
       "      <td>9.2</td>\n",
       "      <td>-0.472</td>\n",
       "    </tr>\n",
       "  </tbody>\n",
       "</table>\n",
       "</div>"
      ]
     },
     "metadata": {},
     "execution_count": 2
    }
   ],
   "metadata": {}
  },
  {
   "cell_type": "markdown",
   "source": [
    "## Initializing the Bayesian machine scienstist "
   ],
   "metadata": {}
  },
  {
   "cell_type": "markdown",
   "source": [
    "We start by initializing the machine scientist. This involves three steps:\n",
    "- **Reading the prior hyperparameters.** The values of the hyperparameters depend on the number of variables `nv` and parameters `np`considered during the search. Many combinations of `nv` and `np` have hyperparameters calculated in the `Prior` directory. Otherwise, the hyperparameters should be fit. \n",
    "- **Setting the \"temperatures\" for the parallel tempering.** If you don't know what parallel tempering is, you can read it in the Methods section of the paper, or just leave it as is in the code. In general, more temperatures (here 20) lead to better sampling of the expression space (we use a maximum of 100 different temperatures)\n",
    "- **Initializing the (parallel) scientist.**"
   ],
   "metadata": {}
  },
  {
   "cell_type": "code",
   "execution_count": 45,
   "source": [
    "# Read the hyperparameters for the prior\r\n",
    "\r\n",
    "prior_par = read_prior_par('./Prior/final_prior_param_sq.named_equations.nv13.np13.2016-09-01 17_05_57.196882.dat')\r\n",
    "\r\n",
    "# Set the temperatures for the parallel tempering\r\n",
    "Ts = [1] + [1.04**k for k in range(1, 20)]\r\n",
    "\r\n",
    "# Initialize the parallel machine scientist\r\n",
    "pms = Parallel(\r\n",
    "    Ts,\r\n",
    "    variables=XLABS,\r\n",
    "    parameters=['a%d' % i for i in range(13)],\r\n",
    "    x=x, y=y,\r\n",
    "    prior_par=prior_par,\r\n",
    ")"
   ],
   "outputs": [],
   "metadata": {}
  },
  {
   "cell_type": "markdown",
   "source": [
    "## Sampling expressions with the Bayesian machine scientist "
   ],
   "metadata": {}
  },
  {
   "cell_type": "markdown",
   "source": [
    "We are now ready to start sampling expressions with the Bayesian machine scientist, using MCMC. In its simplest form, one just needs to run the `mcmc_step()` and the `tree_swap()` methods as many times as necessary. `mcmc_step()` performs an MCMC update at each of the temperatures of the parallel tempering, whereas `tree_swap()` attempts to swap the expressions at two consecutive temperatures."
   ],
   "metadata": {}
  },
  {
   "cell_type": "code",
   "execution_count": 47,
   "source": [
    "# Number of MCMC steps\r\n",
    "nstep = 100\r\n",
    "\r\n",
    "# Draw a progress bar to keep track of the MCMC progress\r\n",
    "f = IntProgress(min=0, max=nstep, description='Running:') # instantiate the bar\r\n",
    "display(f)\r\n",
    "\r\n",
    "# MCMC\r\n",
    "for i in range(nstep):\r\n",
    "    # MCMC update\r\n",
    "    pms.mcmc_step() # MCMC step within each T\r\n",
    "    pms.tree_swap() # Attempt to swap two randomly selected consecutive temps\r\n",
    "    # Update the progress bar\r\n",
    "    f.value += 1"
   ],
   "outputs": [
    {
     "output_type": "display_data",
     "data": {
      "text/plain": [
       "IntProgress(value=0, description='Running:')"
      ],
      "application/vnd.jupyter.widget-view+json": {
       "version_major": 2,
       "version_minor": 0,
       "model_id": "5f29d7c36d8d4c908ce7fb17d7e48c4d"
      }
     },
     "metadata": {}
    }
   ],
   "metadata": {}
  },
  {
   "cell_type": "markdown",
   "source": [
    "Typically, of course, one wants to do something other than just generate expressions. For example, one may want to keep track of the most plausible (or, equivalently, the minimum description length) model visited so far by the MCMC, or to keep a trace of some of the properties of the sampled expressions. The example below keeps the best model, as well as a trace of all the description lengths visited. Note that, in `Parallel` objects, the relevant expression is stored in the `t1` attribute (which stands for temperature 1)."
   ],
   "metadata": {}
  },
  {
   "cell_type": "code",
   "execution_count": 48,
   "source": [
    "# Number of MCMC steps\r\n",
    "nstep = 3000\r\n",
    "\r\n",
    "# Draw a progress bar to keep track of the MCMC progress\r\n",
    "f = IntProgress(min=0, max=nstep, description='Running:') # instantiate the bar\r\n",
    "display(f)\r\n",
    "\r\n",
    "# MCMC\r\n",
    "description_lengths, mdl, mdl_model = [], np.inf, None\r\n",
    "for i in range(nstep):\r\n",
    "    # MCMC update\r\n",
    "    pms.mcmc_step() # MCMC step within each T\r\n",
    "    pms.tree_swap() # Attempt to swap two randomly selected consecutive temps\r\n",
    "    # Add the description length to the trace\r\n",
    "    description_lengths.append(pms.t1.E)\r\n",
    "    # Check if this is the MDL expression so far\r\n",
    "    if pms.t1.E < mdl:\r\n",
    "        mdl, mdl_model = pms.t1.E, deepcopy(pms.t1)\r\n",
    "    # Update the progress bar\r\n",
    "    f.value += 1"
   ],
   "outputs": [
    {
     "output_type": "display_data",
     "data": {
      "text/plain": [
       "IntProgress(value=0, description='Running:', max=3000)"
      ],
      "application/vnd.jupyter.widget-view+json": {
       "version_major": 2,
       "version_minor": 0,
       "model_id": "9a9c2167ff3942f1a08b7089757368f6"
      }
     },
     "metadata": {}
    }
   ],
   "metadata": {}
  },
  {
   "cell_type": "markdown",
   "source": [
    "So let's take a look at the objects we stored. Here is the best model sampled by the machine scientist:"
   ],
   "metadata": {}
  },
  {
   "cell_type": "code",
   "execution_count": 50,
   "source": [
    "print('Best model:\\t', mdl_model)\r\n",
    "print('Desc. length:\\t', mdl)"
   ],
   "outputs": [
    {
     "output_type": "stream",
     "name": "stdout",
     "text": [
      "Best model:\t (PT_may * (_a0_ * (eff ** _a4_)))\n",
      "Desc. length:\t 94.2303909221494\n"
     ]
    }
   ],
   "metadata": {}
  },
  {
   "cell_type": "markdown",
   "source": [
    "And here is the trace of the description length:"
   ],
   "metadata": {}
  },
  {
   "cell_type": "code",
   "execution_count": 51,
   "source": [
    "plt.figure(figsize=(15, 5))\r\n",
    "plt.plot(description_lengths)\r\n",
    "plt.xlabel('MCMC step', fontsize=14)\r\n",
    "plt.ylabel('Description length', fontsize=14)\r\n",
    "plt.title('MDL model: $%s$' % mdl_model.latex())\r\n",
    "plt.show()"
   ],
   "outputs": [
    {
     "output_type": "display_data",
     "data": {
      "text/plain": [
       "<Figure size 1080x360 with 1 Axes>"
      ],
      "image/png": "[encoded data removed]"
     },
     "metadata": {
      "needs_background": "light"
     }
    }
   ],
   "metadata": {}
  },
  {
   "cell_type": "markdown",
   "source": [
    "## Making predictions with the Bayesian machine scientist "
   ],
   "metadata": {}
  },
  {
   "cell_type": "markdown",
   "source": [
    "Finally, we typically want to make predictions with models. In this regard, the interface of the machine scientist is similar to those in Scikit Learn: to make a prediction we call the `predict(x)` method, with an argument that has the same format as the training `x`, that is, a Pandas `DataFrame` with the exact same columns."
   ],
   "metadata": {}
  },
  {
   "cell_type": "code",
   "execution_count": 52,
   "source": [
    "plt.figure(figsize=(6, 6))\r\n",
    "plt.scatter(mdl_model.predict(x), y)\r\n",
    "plt.plot((-6, 0), (-6, 0))\r\n",
    "plt.xlabel('MDL model predictions', fontsize=14)\r\n",
    "plt.ylabel('Actual values', fontsize=14)\r\n",
    "plt.show()"
   ],
   "outputs": [
    {
     "output_type": "display_data",
     "data": {
      "text/plain": [
       "<Figure size 432x432 with 1 Axes>"
      ],
      "image/png": "[encoded data removed]"
     },
     "metadata": {
      "needs_background": "light"
     }
    }
   ],
   "metadata": {}
  },
  {
   "cell_type": "markdown",
   "source": [
    "## Further refinements "
   ],
   "metadata": {}
  },
  {
   "cell_type": "markdown",
   "source": [
    "The examples above are only intended to illustrate how a basic MCMC would be implemented. In practice, there are other considerations that we kept in mind in all the experiments reported in the manuscriot, and that anyone using the code should too:\n",
    "- **Equilibration**: One should not start sampling until the MCMC has converged to the stationary distribution. Although determining when a sample is in equilibrium, a necessary condition is that the description length is not increasing or, more typically, decreasing. The trace of the description length should be flat (except for fluctuations) before we start collecting samples.\n",
    "- **Thinning**: MCMC samples should be thinned, so only one in, say, 100 samples are kept for the trace. Otherwise, one is getting highly correlated samples, which may lead to, for example, erroneous estimates of confidence intervals.\n",
    "- **Getting trapped**: Despite the parallel tempering, the MCMC can get trapped in local minima of the description length. For this, we typically keep track of the number of steps since the last `tree_swap()` move was accepted for each temperature. If a particular temperature has *not* accepted swaps in a long time, then we anneal the whole system, that is, we increase all temperatures and decrease them slowly back to equilibrium so as to escape the local minima. Using several restarts of the MCMC and comparing the results is also a convenient check.\n",
    "- **Memory issues**: By default, the machine scientist keeps a cache of all visited models, so as to avoid duplicates of previously considered models, as well as to speed up the process of obtaining the maximum likelihood estimators of the model parameters. For long MCMC chains this becomes memory intensive, so it may be convenient to periodically clean this cache (or, at least, old models in this cache) by reinitializing the `fit_pat` and `representative` attributes of the `Parallel` instance."
   ],
   "metadata": {}
  }
 ],
 "metadata": {
  "kernelspec": {
   "name": "python3",
   "display_name": "Python 3.7.4 64-bit ('base': conda)"
  },
  "language_info": {
   "codemirror_mode": {
    "name": "ipython",
    "version": 3
   },
   "file_extension": ".py",
   "mimetype": "text/x-python",
   "name": "python",
   "nbconvert_exporter": "python",
   "pygments_lexer": "ipython3",
   "version": "3.7.4"
  },
  "interpreter": {
   "hash": "1dbf2d8d6f69c43a62c360d91cc02b1102b49466c564358bdbf1b2d9d0be5b23"
  }
 },
 "nbformat": 4,
 "nbformat_minor": 2
}