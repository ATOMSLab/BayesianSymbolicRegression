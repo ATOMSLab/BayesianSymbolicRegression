{
 "cells": [
  {
   "cell_type": "code",
   "execution_count": 1,
   "metadata": {},
   "outputs": [],
   "source": [
    "import sys\n",
    "import numpy as np \n",
    "import pandas as pd\n",
    "import warnings\n",
    "warnings.filterwarnings('ignore')\n",
    "\n",
    "import matplotlib.pyplot as plt\n",
    "from copy import deepcopy\n",
    "from ipywidgets import IntProgress #for the running bar\n",
    "from IPython.display import display\n",
    "\n",
    "sys.path.append('./')\n",
    "sys.path.append('./Prior/')\n",
    "from mcmc import *\n",
    "from parallel import *\n",
    "from fit_prior import read_prior_par\n",
    "\n",
    "import plotly.graph_objects as go"
   ]
  },
  {
   "cell_type": "markdown",
   "metadata": {},
   "source": [
    "## Import data and building dataframe"
   ]
  },
  {
   "cell_type": "code",
   "execution_count": 2,
   "metadata": {},
   "outputs": [],
   "source": [
    "dir_list = []\n",
    "for i in range(5):\n",
    "    dir_list.append('./Data_Nitrogen_set/All_models_T'+str(i+1)+'.txt')\n",
    "\n",
    "models_df = []\n",
    "for dir in dir_list:    \n",
    "    models_df.append(pd.read_csv(dir, header = None, delimiter=','))\n",
    "    models_df[-1] = models_df[-1].rename(columns={0:'Model',1:'Description length',2:'a0',3:'a1'})"
   ]
  },
  {
   "cell_type": "code",
   "execution_count": 3,
   "metadata": {},
   "outputs": [],
   "source": [
    "fig = go.Figure()\n",
    "Ts = [1] + [1.04**k for k in range(1, 20)] # List of temperatures: \n",
    "legend_list = [\"T =\" + str(round(temp,2)) for temp in Ts[0:5]]\n",
    "for i in range(len(legend_list)):\n",
    "    name = legend_list[i]\n",
    "    fig.add_trace(go.Scatter(x=np.arange(len(models_df[i].index)),\n",
    "                             y=np.array(models_df[i]['Description length']).astype(float), \n",
    "                             opacity=0.5,\n",
    "                             marker=dict(size=10,\n",
    "                                         line=dict(color='White',\n",
    "                                                   width=0.5)),\n",
    "                             hovertemplate='Model: %{text}' \n",
    "                             '<br>MCMC step: %{x}' \n",
    "                             '<br>Description length: %{y:4.4f}'\n",
    "                             '<br>a<sub>0</sub>: %{customdata[0]:4.4f}'\n",
    "                             '<br>a<sub>1</sub>: %{customdata[1]:4.4f}',                         \n",
    "                             text=models_df[i]['Model'],\n",
    "                             customdata=models_df[i][['a0','a1']],\n",
    "                             name=name,\n",
    "                             showlegend=True\n",
    "                            )\n",
    "                 )\n",
    "\n",
    "fig.update_layout(title='Description length of models by BMS on Nitrogen data set',\n",
    "                  xaxis_title='MCMC step',\n",
    "                  yaxis_title='Description length',\n",
    "                  autosize=False,\n",
    "                  width=1600,\n",
    "                  height=800,\n",
    "                 )\n",
    "\n",
    "fig.write_html('./Data_Nitrogen_set/MDL_Nitrogen.html')"
   ]
  },
  {
   "cell_type": "code",
   "execution_count": null,
   "metadata": {},
   "outputs": [],
   "source": []
  }
 ],
 "metadata": {
  "kernelspec": {
   "display_name": "Python 3",
   "language": "python",
   "name": "python3"
  },
  "language_info": {
   "codemirror_mode": {
    "name": "ipython",
    "version": 3
   },
   "file_extension": ".py",
   "mimetype": "text/x-python",
   "name": "python",
   "nbconvert_exporter": "python",
   "pygments_lexer": "ipython3",
   "version": "3.8.8"
  }
 },
 "nbformat": 4,
 "nbformat_minor": 4
}
